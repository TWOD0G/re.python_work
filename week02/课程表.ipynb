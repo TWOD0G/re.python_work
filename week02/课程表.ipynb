{
 "cells": [
  {
   "cell_type": "code",
   "execution_count": 9,
   "metadata": {},
   "outputs": [],
   "source": [
    "from datetime import datetime\n"
   ]
  },
  {
   "cell_type": "markdown",
   "metadata": {},
   "source": [
    "# 自动版"
   ]
  },
  {
   "cell_type": "code",
   "execution_count": 7,
   "metadata": {},
   "outputs": [
    {
     "name": "stdout",
     "output_type": "stream",
     "text": [
      "2021-09-27 13:33:30.084979\n"
     ]
    }
   ],
   "source": [
    "now = datetime.now() #当地时间\n",
    "week = now.strftime(\"%w\")# 显示目前星期\n",
    "print(now)"
   ]
  },
  {
   "cell_type": "code",
   "execution_count": 11,
   "metadata": {},
   "outputs": [
    {
     "name": "stdout",
     "output_type": "stream",
     "text": [
      "09:45 python语言 2实203\n"
     ]
    }
   ],
   "source": [
    "if int(week) == 1:\n",
    "    print('09:45','python语言','2实203')\n",
    "elif int(week) == 2:\n",
    "    print('16:10','基础治学方法','1-401')\n",
    "    print('18:45','影视剧本写作','1-202')\n",
    "elif int(week) == 3:\n",
    "    print('08:00','道德经导读','7-205')\n",
    "    print('09:45','融合新闻学','综合楼612')\n",
    "elif int(week) == 4:\n",
    "    print('10:35','演讲与口才','1-302')\n",
    "else:\n",
    "    print('没有课咯！（大概）')"
   ]
  },
  {
   "cell_type": "markdown",
   "metadata": {},
   "source": [
    "# 手动输入版"
   ]
  },
  {
   "cell_type": "code",
   "execution_count": 13,
   "metadata": {},
   "outputs": [
    {
     "name": "stdout",
     "output_type": "stream",
     "text": [
      "请输入今天的星期:5\n",
      "没有课咯！（大概）\n"
     ]
    }
   ],
   "source": [
    "week = int(input('请输入今天的星期:')) #输入数字\n",
    "if int(week) == 1:\n",
    "    print('09:45','python语言','2实203')\n",
    "elif int(week) == 2:\n",
    "    print('16:10','基础治学方法','1-401')\n",
    "    print('18:45','影视剧本写作','1-202')\n",
    "elif int(week) == 3:\n",
    "    print('08:00','道德经导读','7-205')\n",
    "    print('09:45','融合新闻学','综合楼612')\n",
    "elif int(week) == 4:\n",
    "    print('10:35','演讲与口才','1-302')\n",
    "else:\n",
    "    print('没有课咯！（大概）')"
   ]
  },
  {
   "cell_type": "code",
   "execution_count": null,
   "metadata": {},
   "outputs": [],
   "source": []
  },
  {
   "cell_type": "code",
   "execution_count": null,
   "metadata": {},
   "outputs": [],
   "source": []
  }
 ],
 "metadata": {
  "kernelspec": {
   "display_name": "Python 3",
   "language": "python",
   "name": "python3"
  },
  "language_info": {
   "codemirror_mode": {
    "name": "ipython",
    "version": 3
   },
   "file_extension": ".py",
   "mimetype": "text/x-python",
   "name": "python",
   "nbconvert_exporter": "python",
   "pygments_lexer": "ipython3",
   "version": "3.7.3"
  }
 },
 "nbformat": 4,
 "nbformat_minor": 2
}
