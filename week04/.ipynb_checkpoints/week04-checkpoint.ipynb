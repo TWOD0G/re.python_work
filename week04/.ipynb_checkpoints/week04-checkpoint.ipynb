{
 "cells": [
  {
   "cell_type": "code",
   "execution_count": 20,
   "metadata": {},
   "outputs": [],
   "source": [
    "from datetime import datetime\n",
    "import time"
   ]
  },
  {
   "cell_type": "code",
   "execution_count": 1,
   "metadata": {},
   "outputs": [],
   "source": [
    "now = datetime.now() #当地时间"
   ]
  },
  {
   "cell_type": "markdown",
   "metadata": {},
   "source": [
    "# 输入星期版"
   ]
  },
  {
   "cell_type": "code",
   "execution_count": 2,
   "metadata": {},
   "outputs": [
    {
     "name": "stdout",
     "output_type": "stream",
     "text": [
      "请输入今天的星期:2\n",
      "16:10 基础治学方法 1-401\n",
      "18:45 影视剧本写作 1-202\n"
     ]
    }
   ],
   "source": [
    "week = int(input('请输入今天的星期:')) #输入数字\n",
    "if int(week) == 1:\n",
    "    print('09:45','python语言','2实203')\n",
    "elif int(week) == 2:\n",
    "    print('16:10','基础治学方法','1-401')\n",
    "    print('18:45','影视剧本写作','1-202')\n",
    "elif int(week) == 3:\n",
    "    print('08:00','道德经导读','7-205')\n",
    "    print('09:45','融合新闻学','综合楼612')\n",
    "elif int(week) == 4:\n",
    "    print('10:35','演讲与口才','1-302')\n",
    "else:\n",
    "    print('没有课咯！（大概）')"
   ]
  },
  {
   "cell_type": "markdown",
   "metadata": {},
   "source": [
    "# 输入指定年月日版"
   ]
  },
  {
   "cell_type": "code",
   "execution_count": 26,
   "metadata": {},
   "outputs": [
    {
     "name": "stdout",
     "output_type": "stream",
     "text": [
      "请输入今天的年月日，并以‘-’分隔年/月/日:2021-09-21\n"
     ]
    }
   ],
   "source": [
    "start = input('请输入今天的年月日，并以‘-’分隔年/月/日:')\n",
    "week = datetime.strptime(start,\"%Y-%m-%d\").weekday()"
   ]
  },
  {
   "cell_type": "code",
   "execution_count": 28,
   "metadata": {},
   "outputs": [
    {
     "name": "stdout",
     "output_type": "stream",
     "text": [
      "09:45 python语言 2实203\n"
     ]
    }
   ],
   "source": [
    "if int(week) == 1:\n",
    "    print('09:45','python语言','2实203')\n",
    "elif int(week) == 2:\n",
    "    print('16:10','基础治学方法','1-401')\n",
    "    print('18:45','影视剧本写作','1-202')\n",
    "elif int(week) == 3:\n",
    "    print('08:00','道德经导读','7-205')\n",
    "    print('09:45','融合新闻学','综合楼612')\n",
    "elif int(week) == 4:\n",
    "    print('10:35','演讲与口才','1-302')\n",
    "else:\n",
    "    print('没有课咯！（大概）')"
   ]
  },
  {
   "cell_type": "code",
   "execution_count": null,
   "metadata": {},
   "outputs": [],
   "source": [
    "2021-09-21"
   ]
  }
 ],
 "metadata": {
  "kernelspec": {
   "display_name": "Python 3",
   "language": "python",
   "name": "python3"
  },
  "language_info": {
   "codemirror_mode": {
    "name": "ipython",
    "version": 3
   },
   "file_extension": ".py",
   "mimetype": "text/x-python",
   "name": "python",
   "nbconvert_exporter": "python",
   "pygments_lexer": "ipython3",
   "version": "3.7.3"
  }
 },
 "nbformat": 4,
 "nbformat_minor": 2
}
