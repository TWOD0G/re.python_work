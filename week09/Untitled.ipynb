{
 "cells": [
  {
   "cell_type": "code",
   "execution_count": 3,
   "metadata": {},
   "outputs": [],
   "source": [
    "dic = {\n",
    "    \"ids\":[\"01\",\"02\",\"03\"],\n",
    "    \" password\":[\"52\",\"53\",\"sda\"]\n",
    "}\n",
    "#尝试利用字典制作账号密码的数据库"
   ]
  },
  {
   "cell_type": "code",
   "execution_count": 9,
   "metadata": {},
   "outputs": [
    {
     "name": "stdout",
     "output_type": "stream",
     "text": [
      "请输入账号d\n",
      "请输入密码d\n"
     ]
    }
   ],
   "source": [
    "ids= input(\"请输入账号\")\n",
    "password=input(\"请输入密码\")"
   ]
  },
  {
   "cell_type": "code",
   "execution_count": 11,
   "metadata": {},
   "outputs": [
    {
     "name": "stdout",
     "output_type": "stream",
     "text": [
      "您的账号输入错误\n",
      "您的账号输入错误\n",
      "您的账号输入错误\n"
     ]
    }
   ],
   "source": [
    "if ids not in dic[\"ids\"]:\n",
    "    print(\"您的账号输入错误\")\n",
    "elif password not in dic[\"password\"]:\n",
    "    print(\"您的密码输入错误\")"
   ]
  },
  {
   "cell_type": "code",
   "execution_count": null,
   "metadata": {},
   "outputs": [],
   "source": []
  }
 ],
 "metadata": {
  "kernelspec": {
   "display_name": "Python 3",
   "language": "python",
   "name": "python3"
  },
  "language_info": {
   "codemirror_mode": {
    "name": "ipython",
    "version": 3
   },
   "file_extension": ".py",
   "mimetype": "text/x-python",
   "name": "python",
   "nbconvert_exporter": "python",
   "pygments_lexer": "ipython3",
   "version": "3.7.3"
  }
 },
 "nbformat": 4,
 "nbformat_minor": 2
}
