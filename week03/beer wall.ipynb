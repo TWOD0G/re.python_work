{
 "cells": [
  {
   "cell_type": "code",
   "execution_count": 8,
   "metadata": {},
   "outputs": [
    {
     "name": "stdout",
     "output_type": "stream",
     "text": [
      "90\n"
     ]
    }
   ],
   "source": [
    "beer = 90\n",
    "print(beer)"
   ]
  },
  {
   "cell_type": "code",
   "execution_count": 9,
   "metadata": {},
   "outputs": [
    {
     "name": "stdout",
     "output_type": "stream",
     "text": [
      "请输入你需要提取的啤酒数目:50\n",
      "您已经取走了50瓶啤酒\n",
      "现在还剩下40瓶啤酒\n",
      "请输入你需要提取的啤酒数目:40\n",
      "您已经取走了40瓶啤酒\n",
      "现在还剩下0瓶啤酒\n",
      "已经没有啤酒了\n"
     ]
    }
   ],
   "source": [
    "while beer !=0:\n",
    "        beer_put = int(input(\"请输入你需要提取的啤酒数目:\"))\n",
    "        beer_p = str(beer_put)\n",
    "        print(\"您已经取走了\" + beer_p +\"瓶啤酒\")\n",
    "        beer = beer - beer_put\n",
    "        beer_ps = str(beer)\n",
    "        print(\"现在还剩下\"+ beer_ps +\"瓶啤酒\")\n",
    "if beer == 0:\n",
    "    print('已经没有啤酒了')"
   ]
  },
  {
   "cell_type": "code",
   "execution_count": 6,
   "metadata": {},
   "outputs": [
    {
     "name": "stdout",
     "output_type": "stream",
     "text": [
      "86\n"
     ]
    }
   ],
   "source": []
  },
  {
   "cell_type": "code",
   "execution_count": null,
   "metadata": {},
   "outputs": [],
   "source": []
  }
 ],
 "metadata": {
  "kernelspec": {
   "display_name": "Python 3",
   "language": "python",
   "name": "python3"
  },
  "language_info": {
   "codemirror_mode": {
    "name": "ipython",
    "version": 3
   },
   "file_extension": ".py",
   "mimetype": "text/x-python",
   "name": "python",
   "nbconvert_exporter": "python",
   "pygments_lexer": "ipython3",
   "version": "3.7.3"
  }
 },
 "nbformat": 4,
 "nbformat_minor": 2
}
